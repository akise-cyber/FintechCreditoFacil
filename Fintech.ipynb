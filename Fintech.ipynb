{
  "nbformat": 4,
  "nbformat_minor": 0,
  "metadata": {
    "colab": {
      "name": "Fintech.ipynb",
      "provenance": [],
      "collapsed_sections": [],
      "authorship_tag": "ABX9TyO2BfDZXdIeeNE+u2DJ1s1C"
    },
    "kernelspec": {
      "name": "python3",
      "display_name": "Python 3"
    },
    "language_info": {
      "name": "python"
    }
  },
  "cells": [
    {
      "cell_type": "code",
      "metadata": {
        "colab": {
          "base_uri": "https://localhost:8080/"
        },
        "id": "jMoF2QoNZkJI",
        "outputId": "f2b868a4-0d15-4633-df5f-7f81c55b9587"
      },
      "source": [
        "import pandas as pd     \n",
        "import seaborn as sns \n",
        "\n",
        "#Importando dados\n",
        "clientes = pd.read_csv('clientes.csv')\n",
        "\n",
        "print(clientes.shape)\n",
        "\n",
        "print(clientes.describe())\n",
        "\n",
        "#Substituindo por número\n",
        "clientes['sexo']= clientes['sexo'].map({'Male':0, 'Female':1})\n",
        "clientes['estado_civil']= clientes['estado_civil'].map({'No':0, 'Yes':1})\n",
        "clientes['aprovacao_emprestimo']= clientes['aprovacao_emprestimo'].map({'N':0, 'Y':1})\n",
        "\n",
        "#Tirar valores nulos\n",
        "clientes = clientes.dropna()\n",
        "\n",
        "X = clientes[['sexo', 'estado_civil', 'renda', 'emprestimo', 'historico_credito']]\n",
        "y = clientes.aprovacao_emprestimo\n",
        "X.shape, y.shape\n",
        "\n",
        "#Importando amostragem de dados\n",
        "from sklearn.model_selection import train_test_split\n",
        "\n",
        "# Amostragem\n",
        "x_train, x_teste, y_train, y_teste = train_test_split(X,y, test_size = 0.2)"
      ],
      "execution_count": 21,
      "outputs": [
        {
          "output_type": "stream",
          "text": [
            "(614, 13)\n",
            "              renda  emprestimo  prestacao_mensal  historico_credito\n",
            "count    614.000000  592.000000         600.00000         564.000000\n",
            "mean    5403.459283  146.412162         342.00000           0.842199\n",
            "std     6109.041673   85.587325          65.12041           0.364878\n",
            "min      150.000000    9.000000          12.00000           0.000000\n",
            "25%     2877.500000  100.000000         360.00000           1.000000\n",
            "50%     3812.500000  128.000000         360.00000           1.000000\n",
            "75%     5795.000000  168.000000         360.00000           1.000000\n",
            "max    81000.000000  700.000000         480.00000           1.000000\n"
          ],
          "name": "stdout"
        }
      ]
    },
    {
      "cell_type": "code",
      "metadata": {
        "colab": {
          "base_uri": "https://localhost:8080/"
        },
        "id": "MZk4cyOHbAmr",
        "outputId": "3af536ff-7d85-4e57-d68d-71636f731201"
      },
      "source": [
        "## Algoritmo Random Forest\n",
        "from sklearn.ensemble import RandomForestClassifier \n",
        "\n",
        "maquina = RandomForestClassifier() \n",
        "maquina.fit(x_train, y_train)\n",
        "\n",
        "#Importando a Métrica de Avaliação\n",
        "from sklearn.metrics import accuracy_score\n",
        "\n",
        "#Avaliando a Acurácia com dados de treino\n",
        "pred_maquina = maquina.predict(x_train)\n",
        "accuracy_score(y_train,pred_maquina)"
      ],
      "execution_count": 22,
      "outputs": [
        {
          "output_type": "execute_result",
          "data": {
            "text/plain": [
              "1.0"
            ]
          },
          "metadata": {
            "tags": []
          },
          "execution_count": 22
        }
      ]
    },
    {
      "cell_type": "code",
      "metadata": {
        "colab": {
          "base_uri": "https://localhost:8080/"
        },
        "id": "WSUQ54uMbYTK",
        "outputId": "d942c713-90c2-4948-de2c-fc46f7954ceb"
      },
      "source": [
        "#Avaliando a Acurácia da Máquina Preditiva Baseline com dados de Teste\n",
        "pred_maquina = maquina.predict(x_teste)\n",
        "accuracy_score(y_teste,pred_maquina)"
      ],
      "execution_count": 23,
      "outputs": [
        {
          "output_type": "execute_result",
          "data": {
            "text/plain": [
              "0.7291666666666666"
            ]
          },
          "metadata": {
            "tags": []
          },
          "execution_count": 23
        }
      ]
    },
    {
      "cell_type": "code",
      "metadata": {
        "colab": {
          "base_uri": "https://localhost:8080/"
        },
        "id": "6gntycZMbqOi",
        "outputId": "47cbdbfa-0539-4b14-8962-9bd6c3baade1"
      },
      "source": [
        "#Criando hiperparâmetro (maxdepth)\n",
        "maquina = RandomForestClassifier(max_depth=4, random_state = 7) \n",
        "maquina.fit(x_train, y_train)"
      ],
      "execution_count": 24,
      "outputs": [
        {
          "output_type": "execute_result",
          "data": {
            "text/plain": [
              "RandomForestClassifier(bootstrap=True, ccp_alpha=0.0, class_weight=None,\n",
              "                       criterion='gini', max_depth=4, max_features='auto',\n",
              "                       max_leaf_nodes=None, max_samples=None,\n",
              "                       min_impurity_decrease=0.0, min_impurity_split=None,\n",
              "                       min_samples_leaf=1, min_samples_split=2,\n",
              "                       min_weight_fraction_leaf=0.0, n_estimators=100,\n",
              "                       n_jobs=None, oob_score=False, random_state=7, verbose=0,\n",
              "                       warm_start=False)"
            ]
          },
          "metadata": {
            "tags": []
          },
          "execution_count": 24
        }
      ]
    },
    {
      "cell_type": "code",
      "metadata": {
        "colab": {
          "base_uri": "https://localhost:8080/"
        },
        "id": "DyQ9vLzyb1n0",
        "outputId": "043360d3-28c3-4626-92a9-7eaafa3af736"
      },
      "source": [
        "#Avaliando a Acurácia com os dados de Treino\n",
        "pred_maquina_treino = maquina.predict(x_train)\n",
        "accuracy_score(y_train,pred_maquina_treino)"
      ],
      "execution_count": 25,
      "outputs": [
        {
          "output_type": "execute_result",
          "data": {
            "text/plain": [
              "0.8255208333333334"
            ]
          },
          "metadata": {
            "tags": []
          },
          "execution_count": 25
        }
      ]
    },
    {
      "cell_type": "code",
      "metadata": {
        "colab": {
          "base_uri": "https://localhost:8080/"
        },
        "id": "yR8uFx4Xb6-J",
        "outputId": "381033ab-e578-4cbd-c24a-13c66a112912"
      },
      "source": [
        "#Avaliando a Acurácia com dados de Teste\n",
        "pred_maquina_teste = maquina.predict(x_teste)\n",
        "accuracy_score(y_teste,pred_maquina_teste)"
      ],
      "execution_count": 26,
      "outputs": [
        {
          "output_type": "execute_result",
          "data": {
            "text/plain": [
              "0.7916666666666666"
            ]
          },
          "metadata": {
            "tags": []
          },
          "execution_count": 26
        }
      ]
    },
    {
      "cell_type": "code",
      "metadata": {
        "colab": {
          "base_uri": "https://localhost:8080/"
        },
        "id": "98pW5FXicL3M",
        "outputId": "5243168c-bad2-498d-c043-00399b0dd652"
      },
      "source": [
        "#Importância das Variáveis\n",
        "maquina.feature_importances_"
      ],
      "execution_count": 27,
      "outputs": [
        {
          "output_type": "execute_result",
          "data": {
            "text/plain": [
              "array([0.01480258, 0.04542418, 0.15670005, 0.19086602, 0.59220717])"
            ]
          },
          "metadata": {
            "tags": []
          },
          "execution_count": 27
        }
      ]
    },
    {
      "cell_type": "code",
      "metadata": {
        "colab": {
          "base_uri": "https://localhost:8080/",
          "height": 283
        },
        "id": "h5kkzf-XcO2S",
        "outputId": "965d526b-792d-469a-f0b9-299b4817bed7"
      },
      "source": [
        "#Gráfico de importância \n",
        "print(maquina.feature_importances_)\n",
        "\n",
        "from matplotlib import pyplot\n",
        "pyplot.bar(range(len(maquina.feature_importances_)), maquina.feature_importances_)\n",
        "pyplot.show()\n",
        "\n",
        "#['sexo', 'estado_civil', 'renda', 'emprestimo', 'historico_credito']"
      ],
      "execution_count": 28,
      "outputs": [
        {
          "output_type": "stream",
          "text": [
            "[0.01480258 0.04542418 0.15670005 0.19086602 0.59220717]\n"
          ],
          "name": "stdout"
        },
        {
          "output_type": "display_data",
          "data": {
            "image/png": "[encoded data removed]",
            "text/plain": [
              "<Figure size 432x288 with 1 Axes>"
            ]
          },
          "metadata": {
            "tags": [],
            "needs_background": "light"
          }
        }
      ]
    }
  ]
}